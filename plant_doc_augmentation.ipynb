{
 "cells": [
  {
   "cell_type": "code",
   "execution_count": 47,
   "metadata": {
    "collapsed": true
   },
   "outputs": [],
   "source": [
    "import tensorflow as tf\n",
    "from PIL import Image\n",
    "import numpy as np\n",
    "import pandas as pd\n",
    "from sklearn.model_selection import train_test_split\n",
    "import os\n",
    "import random"
   ]
  },
  {
   "cell_type": "code",
   "execution_count": 48,
   "outputs": [],
   "source": [
    "current_path = os.getcwd()\n",
    "plant_doc_path = os.path.join(current_path, 'datasets/original/PlantDoc')\n",
    "plant_doc_train = os.path.join(plant_doc_path, 'train')\n",
    "plant_doc_test = os.path.join(plant_doc_path, 'test')\n",
    "\n",
    "def load_images_pd(set_path):\n",
    "    images = {}\n",
    "    for directory in os.listdir(set_path):\n",
    "        images[directory] = []\n",
    "        disease_directory = os.path.join(set_path, directory)\n",
    "        for _, file in enumerate(os.listdir(disease_directory)):\n",
    "            image_path = os.path.join(disease_directory, file)\n",
    "            with Image.open(image_path) as img:\n",
    "                images[directory] += [img.resize((224, 224)).copy()]\n",
    "\n",
    "    return images\n",
    "\n",
    "X_train = load_images_pd(plant_doc_train)\n",
    "X_test = load_images_pd(plant_doc_test)"
   ],
   "metadata": {
    "collapsed": false,
    "pycharm": {
     "name": "#%%\n"
    }
   }
  },
  {
   "cell_type": "code",
   "execution_count": 49,
   "outputs": [],
   "source": [
    "all_images_train = pd.DataFrame(data=((k, img) for k, v in X_train.items() for img in v))\n",
    "all_images_test = pd.DataFrame(data=((k, img) for k, v in X_test.items() for img in v))"
   ],
   "metadata": {
    "collapsed": false,
    "pycharm": {
     "name": "#%%\n"
    }
   }
  },
  {
   "cell_type": "code",
   "execution_count": 50,
   "outputs": [],
   "source": [
    "X_train, X_val, y_train, y_val = train_test_split(all_images_train[1], all_images_train[0], test_size=0.15, stratify=all_images_train[0])\n",
    "X_test, y_test = all_images_test[1], all_images_test[0]"
   ],
   "metadata": {
    "collapsed": false,
    "pycharm": {
     "name": "#%%\n"
    }
   }
  },
  {
   "cell_type": "code",
   "execution_count": 51,
   "outputs": [],
   "source": [
    "def get_crop_size(img, min_prop=0.7):\n",
    "    def rand_prop(x):\n",
    "        return x + (1. - x) * np.random.random()\n",
    "\n",
    "    height, width, channels = img.shape\n",
    "\n",
    "    if height > width:\n",
    "        height_prop = rand_prop(min_prop)\n",
    "        width_prop = rand_prop(height_prop)\n",
    "    else:\n",
    "        width_prop = rand_prop(min_prop)\n",
    "        height_prop = rand_prop(width_prop)\n",
    "\n",
    "    height = np.floor(height_prop * height).astype(int)\n",
    "    width = np.floor(width_prop * width).astype(int)\n",
    "    return height, width, channels\n",
    "\n",
    "def random_augmentation(img):\n",
    "    img = tf.keras.preprocessing.image.random_rotation(img, 20, row_axis=0, col_axis=1, channel_axis=2, fill_mode='reflect')\n",
    "    img = tf.image.random_contrast(img, 0.8, 1.2)\n",
    "    img = tf.image.random_brightness(img, 0.08)\n",
    "    img = tf.image.random_hue(img, 0.025)\n",
    "    img = tf.image.random_saturation(img, 0.85, 1.15)\n",
    "    img = tf.image.random_jpeg_quality(img, 75, 95)\n",
    "    img = tf.image.random_flip_up_down(img)\n",
    "    img = tf.image.random_flip_left_right(img)\n",
    "    img = tf.image.random_crop(img, get_crop_size(img, 0.67))\n",
    "    return img.numpy()\n",
    "\n",
    "\n",
    "def get_augmented_image(img):\n",
    "    return Image.fromarray(random_augmentation(np.array(img.convert('RGB')))).resize((224, 224))"
   ],
   "metadata": {
    "collapsed": false,
    "pycharm": {
     "name": "#%%\n"
    }
   }
  },
  {
   "cell_type": "code",
   "execution_count": 52,
   "outputs": [],
   "source": [
    "for img_label in y_train.unique():\n",
    "    counter = 0\n",
    "    current_class_indexes = y_train[y_train == img_label].index\n",
    "    current_class_images = X_train[current_class_indexes]\n",
    "    dest = f'datasets/augmented/PlantDoc/train/{img_label}/'\n",
    "    os.makedirs(os.path.dirname(dest), exist_ok=True)\n",
    "    for img in current_class_images:\n",
    "        img = Image.fromarray(np.array(img.convert('RGB')))\n",
    "        img.save(dest + str(counter) + '.jpg')\n",
    "        counter += 1\n",
    "\n",
    "    while counter < 150:\n",
    "        augmented_image = get_augmented_image(X_train[random.choice(current_class_images.index)])\n",
    "        augmented_image.save(dest + str(counter) + '.jpg')\n",
    "        counter += 1\n",
    "\n",
    "for img_label in y_val.unique():\n",
    "    counter = 0\n",
    "    current_class_indexes = y_val[y_val == img_label].index\n",
    "    current_class_images = X_val[current_class_indexes]\n",
    "    dest = f'datasets/augmented/PlantDoc/val/{img_label}/'\n",
    "    os.makedirs(os.path.dirname(dest), exist_ok=True)\n",
    "    for img in current_class_images:\n",
    "        img = Image.fromarray(np.array(img.convert('RGB')))\n",
    "        img.save(dest + str(counter) + '.jpg')\n",
    "        counter += 1\n",
    "\n",
    "for img_label in y_test.unique():\n",
    "    counter = 0\n",
    "    current_class_indexes = y_test[y_test == img_label].index\n",
    "    current_class_images = X_test[current_class_indexes]\n",
    "    dest = f'datasets/augmented/PlantDoc/test/{img_label}/'\n",
    "    os.makedirs(os.path.dirname(dest), exist_ok=True)\n",
    "    for img in current_class_images:\n",
    "        img = Image.fromarray(np.array(img.convert('RGB')))\n",
    "        img.save(dest + str(counter) + '.jpg')\n",
    "        counter += 1"
   ],
   "metadata": {
    "collapsed": false,
    "pycharm": {
     "name": "#%%\n"
    }
   }
  },
  {
   "cell_type": "code",
   "execution_count": 53,
   "outputs": [
    {
     "data": {
      "text/plain": "Corn leaf blight              179\nTomato Septoria leaf spot     140\nSquash Powdery mildew leaf    124\nRaspberry leaf                112\nPotato leaf early blight      108\nCorn rust leaf                106\nBlueberry leaf                104\nPeach leaf                    102\nTomato leaf late blight       101\nTomato leaf bacterial spot    101\nPotato leaf late blight        97\nStrawberry leaf                88\nTomato mold leaf               85\nApple Scab Leaf                83\nApple leaf                     82\nTomato Early blight leaf       79\nApple rust leaf                78\nTomato leaf yellow virus       70\nCorn Gray leaf spot            64\nBell_pepper leaf spot          62\ngrape leaf                     57\nSoyabean leaf                  57\ngrape leaf black rot           56\nTomato leaf                    55\nBell_pepper leaf               53\nCherry leaf                    47\nTomato leaf mosaic virus       44\nName: 0, dtype: int64"
     },
     "execution_count": 53,
     "metadata": {},
     "output_type": "execute_result"
    }
   ],
   "source": [
    "all_images_train[0].value_counts()"
   ],
   "metadata": {
    "collapsed": false,
    "pycharm": {
     "name": "#%%\n"
    }
   }
  }
 ],
 "metadata": {
  "kernelspec": {
   "display_name": "Python 3",
   "language": "python",
   "name": "python3"
  },
  "language_info": {
   "codemirror_mode": {
    "name": "ipython",
    "version": 2
   },
   "file_extension": ".py",
   "mimetype": "text/x-python",
   "name": "python",
   "nbconvert_exporter": "python",
   "pygments_lexer": "ipython2",
   "version": "2.7.6"
  }
 },
 "nbformat": 4,
 "nbformat_minor": 0
}